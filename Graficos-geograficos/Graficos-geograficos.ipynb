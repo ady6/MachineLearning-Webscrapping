{
 "cells": [
  {
   "cell_type": "markdown",
   "id": "8e925053",
   "metadata": {},
   "source": [
    "## Ejercicio1\n",
    "\n",
    "Busca un repositorio de datos para mostrar un gráfico con visualización geográfica.\n",
    "Puedes utilizar la librería Geoplotlib.\n",
    "\n",
    "Repositorio: https://github.com/PacktWorkshops/The-Data-Visualization-Workshop\n",
    "\n",
    "Web de interés: http://devguis.com/5-plotting-geospatial-data-the-data-visualization-workshop.html"
   ]
  },
  {
   "cell_type": "code",
   "execution_count": null,
   "id": "a9587509",
   "metadata": {},
   "outputs": [],
   "source": [
    "import geoplotlib\n",
    "from geoplotlib.utils import read_csv\n",
    "\n",
    "\n",
    "data = read_csv(r'https://raw.githubusercontent.com/roberthryniewicz/datasets/master/airline-dataset/flights/flights.csv')\n",
    "geoplotlib.graph(data,\n",
    "                 src_lat='lat_departure',\n",
    "                 src_lon='lon_departure',\n",
    "                 dest_lat='lat_arrival',\n",
    "                 dest_lon='lon_arrival',\n",
    "                 color='hot_r',\n",
    "                 alpha=16,\n",
    "                 linewidth=2)\n",
    "geoplotlib.show()"
   ]
  },
  {
   "cell_type": "markdown",
   "id": "e754f1ad",
   "metadata": {},
   "source": [
    "## Ejercicio2\n",
    "\n",
    "Prueba a mostrar un gráfico con visualización geográfica pero utilizando otra librería diferente que no sea Geoplotlib\n",
    "\n",
    "para instalar geopandas:\n",
    "\n",
    "conda create -n geo_env \n",
    "\n",
    "conda activate geo_env\n",
    "\n",
    "conda config  --env --add channels conda-forge\n",
    "\n",
    "conda config --env --set channel_priority strict\n",
    "\n",
    "conda install geopandas\n"
   ]
  },
  {
   "cell_type": "code",
   "execution_count": null,
   "id": "92802acb",
   "metadata": {},
   "outputs": [],
   "source": [
    "import geopandas as gpd\n",
    "import matplotlib.pyplot as plt\n",
    "# Cargar la capa temática\n",
    "natalidad = \"natalidad.geojson\"\n",
    "map_data = gpd.read_file(natalidad)\n",
    "\n",
    "# Control del tamaño de la figura del mapa\n",
    "fig, ax = plt.subplots(figsize=(10, 10))\n",
    " \n",
    "# Control del título y los ejes\n",
    "ax.set_title('Natalidad por Provincias en España, 2018', \n",
    "             pad = 20, \n",
    "             fontdict={'fontsize':20, 'color': '#4873ab'})\n",
    "ax.set_xlabel('Longitud')\n",
    "ax.set_ylabel('Latitud')\n",
    " \n",
    "# Mostrar el mapa finalizado\n",
    "map_data.plot(column='NAT2018', cmap='plasma', ax=ax, zorder=5)"
   ]
  },
  {
   "cell_type": "markdown",
   "id": "6eb11ea4",
   "metadata": {},
   "source": [
    "## Ejercicio3\n",
    "\n",
    "Puedes utilizar google Maps para mostrar DF de Python?\n",
    "\n",
    "Si, primero habilitar extensiones: jupyter nbextension enable --py --sys-prefix widgetsnbextension\n",
    "\n",
    "Luego instalar gmaps: pip install gmaps\n",
    "\n",
    "Luego obtener API_KEY para configurar gmaps: https://console.cloud.google.com/projectselector2/apis/dashboard?pli=1&supportedpurview=project"
   ]
  },
  {
   "cell_type": "code",
   "execution_count": null,
   "id": "79171661",
   "metadata": {},
   "outputs": [],
   "source": [
    "import gmaps # Importamos gmaps\n",
    "import gmaps.datasets # Importamos los conjuntos de datos\n",
    "gmaps.configure(api_key=\"AI...\") # Configuración\n",
    "\n",
    "# cargamos el conjunto de datos\n",
    "locations = gmaps.datasets.load_dataset(\"\")\n",
    "\n",
    "# Mostramos el mapa\n",
    "fig = gmaps.figure()\n",
    "fig.add_layer(gmaps.heatmap_layer(locations))\n",
    "fig"
   ]
  }
 ],
 "metadata": {
  "kernelspec": {
   "display_name": "Python 3 (ipykernel)",
   "language": "python",
   "name": "python3"
  },
  "language_info": {
   "codemirror_mode": {
    "name": "ipython",
    "version": 3
   },
   "file_extension": ".py",
   "mimetype": "text/x-python",
   "name": "python",
   "nbconvert_exporter": "python",
   "pygments_lexer": "ipython3",
   "version": "3.9.7"
  }
 },
 "nbformat": 4,
 "nbformat_minor": 5
}
