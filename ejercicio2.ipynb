{
 "cells": [
  {
   "cell_type": "markdown",
   "id": "69edbdaf",
   "metadata": {},
   "source": [
    "ejercicio2 - Webscraping\n",
    "busca web en la que hagas login e intenta hacer webscraping para login ok\n",
    "chess.com y probar a acceder como el ejemplo comentado en clase"
   ]
  },
  {
   "cell_type": "code",
   "execution_count": 1,
   "id": "ed939d46",
   "metadata": {},
   "outputs": [
    {
     "data": {
      "text/plain": [
       "'https://images.chesscomfiles.com/uploads/v1/news/1013241.1d6a4440.630x354o.e77b8b05a387.png'"
      ]
     },
     "execution_count": 1,
     "metadata": {},
     "output_type": "execute_result"
    }
   ],
   "source": [
    "from bs4 import BeautifulSoup\n",
    "import requests\n",
    "\n",
    "# empiezo la sesion\n",
    "session = requests.Session()\n",
    "\n",
    "# creo el payload\n",
    "payload = {'_username':'[YOUR_USERNAME]', \n",
    "          '_password':'[YOUR_PASSWORD]'\n",
    "         }\n",
    "\n",
    "# posteo el payload al sitio para logear\n",
    "s = session.post(\"https://www.chess.com/login_check\", data=payload)\n",
    "\n",
    "# navego a la siguiente pagina y scrapeo los datos\n",
    "s = session.get('https://www.chess.com/today')\n",
    "\n",
    "soup = BeautifulSoup(s.text, 'html.parser')\n",
    "soup.find('img')['src']"
   ]
  },
  {
   "cell_type": "code",
   "execution_count": 3,
   "id": "1464e324",
   "metadata": {},
   "outputs": [],
   "source": [
    "import requests\n",
    "from bs4 import BeautifulSoup\n",
    "\n",
    "URL = \"https://www.chess.com//\"\n",
    "page = requests.get(URL)\n",
    "\n",
    "soup = BeautifulSoup(page.content, \"html.parser\")"
   ]
  }
 ],
 "metadata": {
  "kernelspec": {
   "display_name": "Python 3",
   "language": "python",
   "name": "python3"
  },
  "language_info": {
   "codemirror_mode": {
    "name": "ipython",
    "version": 3
   },
   "file_extension": ".py",
   "mimetype": "text/x-python",
   "name": "python",
   "nbconvert_exporter": "python",
   "pygments_lexer": "ipython3",
   "version": "3.8.8"
  }
 },
 "nbformat": 4,
 "nbformat_minor": 5
}
