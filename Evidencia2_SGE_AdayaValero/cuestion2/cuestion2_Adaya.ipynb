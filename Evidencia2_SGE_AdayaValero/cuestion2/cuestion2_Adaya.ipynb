{
 "cells": [
  {
   "cell_type": "markdown",
   "id": "9e11fb91",
   "metadata": {},
   "source": [
    "## Cuestion 2"
   ]
  },
  {
   "cell_type": "code",
   "execution_count": 22,
   "id": "5e2b5661",
   "metadata": {},
   "outputs": [
    {
     "name": "stdout",
     "output_type": "stream",
     "text": [
      "camisa\n",
      "pantalón\n"
     ]
    },
    {
     "data": {
      "text/plain": [
       "60.2"
      ]
     },
     "execution_count": 22,
     "metadata": {},
     "output_type": "execute_result"
    }
   ],
   "source": [
    "class Producto:\n",
    "    #atributos privados\n",
    "    _nombre=\"\"\n",
    "    _temporada=\"\"\n",
    "    _unidades=0\n",
    "    _precio=0\n",
    "    \n",
    "    def __init__(self,nombre,temporada,unidades,precio):\n",
    "        self._nombre=nombre\n",
    "        self._temporada=temporada\n",
    "        self._unidades=unidades\n",
    "        self._precio=precio\n",
    "        \n",
    "    #metodos getter y setter\n",
    "    def get_nombre(self):\n",
    "        return self._nombre\n",
    "    def set_nombre(self,nombre):\n",
    "        self._nombre=nombre\n",
    "        \n",
    "        \n",
    "    #metodo para mostrar total importe con iva 21%\n",
    "    def calcularImporte(self,unidades,precio):\n",
    "        if(unidades==0):\n",
    "            mensaje='Error, no hay stock'\n",
    "            return mensaje\n",
    "        else:\n",
    "            total=unidades*precio*1.21\n",
    "            totaldec = round(total, 2)\n",
    "            return totaldec\n",
    "        \n",
    "#ejecuto el código (método main)\n",
    "#creo una instancia del objeto producto\n",
    "producto=Producto(\"camisa\",\"primavera\",15,9.95)\n",
    "#cambio el nombre de camisa a pantalon\n",
    "print(producto.get_nombre())\n",
    "producto.set_nombre(\"pantalón\")\n",
    "#muestro el nuevo nombre\n",
    "print(producto.get_nombre())\n",
    "#total factura 5 camisas\n",
    "producto.calcularImporte(5,9.95)"
   ]
  }
 ],
 "metadata": {
  "kernelspec": {
   "display_name": "Python 3",
   "language": "python",
   "name": "python3"
  },
  "language_info": {
   "codemirror_mode": {
    "name": "ipython",
    "version": 3
   },
   "file_extension": ".py",
   "mimetype": "text/x-python",
   "name": "python",
   "nbconvert_exporter": "python",
   "pygments_lexer": "ipython3",
   "version": "3.8.8"
  }
 },
 "nbformat": 4,
 "nbformat_minor": 5
}
